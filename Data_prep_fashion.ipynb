{
  "nbformat": 4,
  "nbformat_minor": 0,
  "metadata": {
    "colab": {
      "provenance": []
    },
    "kernelspec": {
      "name": "python3",
      "display_name": "Python 3"
    },
    "language_info": {
      "name": "python"
    }
  },
  "cells": [
    {
      "cell_type": "code",
      "execution_count": 16,
      "metadata": {
        "colab": {
          "base_uri": "https://localhost:8080/"
        },
        "id": "-Dhf6smUCE2n",
        "outputId": "5a24d79a-531e-4b46-d106-a384a878e4ee"
      },
      "outputs": [
        {
          "output_type": "stream",
          "name": "stdout",
          "text": [
            "Column names: ['id', 'gender', 'masterCategory', 'subCategory', 'articleType', 'baseColour', 'season', 'year', 'usage', 'productDisplayName', 'Positive']\n"
          ]
        }
      ],
      "source": [
        "import pandas as pd\n",
        "import random\n",
        "\n",
        "# Path to your CSV file\n",
        "file_path = '/content/styles.csv'\n",
        "\n",
        "# Load the CSV into a DataFrame, skipping bad lines\n",
        "df = pd.read_csv(file_path, on_bad_lines='skip')\n",
        "df['Positive'] = df.drop(columns=['id','year']).astype(str).agg(' , '.join, axis=1)\n",
        "\n",
        "\n",
        "# List all column names\n",
        "print(\"Column names:\", df.columns.tolist())"
      ]
    },
    {
      "cell_type": "code",
      "source": [
        "target_columns = ['gender', 'masterCategory', 'subCategory', 'articleType', 'baseColour', 'season', 'usage']\n",
        "\n",
        "# Loop through each column and print its unique values\n",
        "for col in target_columns:\n",
        "    unique_vals = df[col].dropna().unique().tolist()\n",
        "    # print(f\"{col} ({len(unique_vals)} unique): {unique_vals}\\n\")\n"
      ],
      "metadata": {
        "id": "EoaoZ7FlC-7Z"
      },
      "execution_count": 17,
      "outputs": []
    },
    {
      "cell_type": "code",
      "source": [
        "\n",
        "\n",
        "# --- Define category groups ---\n",
        "topwear = [\n",
        "    'Shirts', 'Tshirts', 'Tops', 'Sweatshirts', 'Jackets', 'Blazers',\n",
        "    'Kurtas', 'Waistcoat', 'Tunics', 'Shrug', 'Sweaters', 'Nightdress',\n",
        "    'Kurtis', 'Camisoles', 'Jumpsuit', 'Nehru Jackets', 'Lounge Tshirts',\n",
        "    'Suits', 'Robe'\n",
        "]\n",
        "\n",
        "bottomwear = [\n",
        "    'Jeans', 'Track Pants', 'Shorts', 'Trousers', 'Capris', 'Boxers',\n",
        "    'Trunk', 'Lounge Pants', 'Leggings', 'Patiala', 'Churidar', 'Tights',\n",
        "    'Jeggings', 'Lounge Shorts', 'Rain Trousers'\n",
        "]\n",
        "\n",
        "accessories_groups = {\n",
        "    'footwear': [\n",
        "        'Casual Shoes', 'Formal Shoes', 'Flip Flops', 'Sandals', 'Heels', 'Flats',\n",
        "        'Sports Shoes', 'Socks', 'Shoe Accessories', 'Shoe Laces',\n",
        "    ],\n",
        "    'fashion': [\n",
        "        'Ties', 'Cufflinks', 'Ties and Cufflinks', 'Wristbands', 'Belts', 'Headband',\n",
        "        'Gloves', 'Stockings', 'Stoles', 'Mufflers', 'Scarves', 'Hats', 'Caps',\n",
        "        'Mask and Peel', 'Shapewear', 'Suspenders', 'Waist Pouch',\n",
        "    ],\n",
        "    'bags': [\n",
        "        'Handbags', 'Clutches', 'Wallets', 'Backpacks', 'Laptop Bag', 'Duffel Bag',\n",
        "        'Trolley Bag', 'Messenger Bag', 'Rucksacks', 'Mobile Pouch', 'Tablet Sleeve',\n",
        "        'Travel Accessory',\n",
        "    ],\n",
        "    'beauty': [\n",
        "        'Deodorant', 'Perfume and Body Mist', 'Fragrance Gift Set', 'Lipstick',\n",
        "        'Lip Gloss', 'Lip Care', 'Lip Liner', 'Lip Plumper', 'Foundation and Primer',\n",
        "        'Highlighter and Blush', 'Compact', 'Concealer', 'Mascara', 'Kajal and Eyeliner',\n",
        "        'Eyeshadow', 'Makeup Remover', 'Face Wash and Cleanser', 'Face Moisturisers',\n",
        "        'Eye Cream', 'Face Scrub and Exfoliator', 'Face Serum and Gel', 'Sunscreen',\n",
        "        'Body Lotion', 'Body Wash and Scrub', 'Hair Colour', 'Beauty Accessory',\n",
        "        'Mens Grooming Kit',\n",
        "    ],\n",
        "    'jewelry': [\n",
        "        'Earrings', 'Ring', 'Bracelet', 'Pendant', 'Necklace and Chains',\n",
        "        'Jewellery Set', 'Bangle', 'Accessory Gift Set',\n",
        "    ],\n",
        "    'others': [\n",
        "        'Water Bottle', 'Footballs', 'Basketballs', 'Umbrellas', 'Cushion Covers',\n",
        "        'Key chain', 'Free Gifts', 'Ipad'\n",
        "    ]\n",
        "}\n",
        "all_accessories = [item for group in accessories_groups.values() for item in group]\n",
        "\n",
        "# --- Helper functions ---\n",
        "gender_map = {\n",
        "    'Men': 'Women',\n",
        "    'Women': 'Men',\n",
        "    'Boys': 'Girls',\n",
        "    'Girls': 'Boys',\n",
        "    'Unisex': 'Unisex'\n",
        "}\n",
        "\n",
        "def get_accessory_group(article):\n",
        "    for group_name, group_items in accessories_groups.items():\n",
        "        if article in group_items:\n",
        "            return group_name\n",
        "    return None\n",
        "\n",
        "def reverse_article_type(article):\n",
        "    if article in topwear:\n",
        "        return random.choice(bottomwear)\n",
        "    elif article in bottomwear:\n",
        "        return random.choice(topwear)\n",
        "    elif article in all_accessories:\n",
        "        group = get_accessory_group(article)\n",
        "        if random.random() < 0.5:\n",
        "            same_group = [x for x in accessories_groups[group] if x != article]\n",
        "            return random.choice(same_group) if same_group else article\n",
        "        else:\n",
        "            other_groups = [g for g in accessories_groups if g != group]\n",
        "            new_group = random.choice(other_groups)\n",
        "            return random.choice(accessories_groups[new_group])\n",
        "    else:\n",
        "        return random.choice(all_accessories)\n",
        "\n",
        "def reverse_season(season):\n",
        "    all_seasons = ['Fall', 'Summer', 'Winter', 'Spring']\n",
        "    return random.choice([s for s in all_seasons if s != season])\n",
        "\n",
        "def reverse_usage(usage):\n",
        "    usages = ['Casual', 'Ethnic', 'Formal', 'Sports', 'Smart Casual', 'Travel', 'Party', 'Home']\n",
        "    if usage == 'Casual':\n",
        "        return 'Smart Casual' if random.random() < 0.7 else random.choice([u for u in usages if u not in ['Casual', 'Smart Casual']])\n",
        "    else:\n",
        "        return random.choice([u for u in usages if u != usage])\n",
        "\n",
        "# --- Create negative column ---\n",
        "def create_negative(row):\n",
        "    gender = gender_map.get(row['gender'], 'Unisex')\n",
        "    article = reverse_article_type(row['articleType'])\n",
        "    season = reverse_season(row['season'])\n",
        "    usage = reverse_usage(row['usage'])\n",
        "    return f'{gender} , {article} , {season} , {usage}'\n",
        "\n",
        "df['NEGATIVE'] = df.apply(create_negative, axis=1)\n",
        "\n",
        "# --- Save to new CSV ---\n",
        "# df.to_csv('final_negative_result.csv', index=False)\n",
        "\n",
        "# --- Optional: preview ---\n",
        "print(df.head())\n"
      ],
      "metadata": {
        "colab": {
          "base_uri": "https://localhost:8080/"
        },
        "id": "ZcfxM8eQDe8m",
        "outputId": "4681cc39-9f34-4fa1-e39e-76677fc5719f"
      },
      "execution_count": 18,
      "outputs": [
        {
          "output_type": "stream",
          "name": "stdout",
          "text": [
            "      id gender masterCategory subCategory  articleType baseColour  season  \\\n",
            "0  15970    Men        Apparel     Topwear       Shirts  Navy Blue    Fall   \n",
            "1  39386    Men        Apparel  Bottomwear        Jeans       Blue  Summer   \n",
            "2  59263  Women    Accessories     Watches      Watches     Silver  Winter   \n",
            "3  21379    Men        Apparel  Bottomwear  Track Pants      Black    Fall   \n",
            "4  53759    Men        Apparel     Topwear      Tshirts       Grey  Summer   \n",
            "\n",
            "     year   usage                             productDisplayName  \\\n",
            "0  2011.0  Casual               Turtle Check Men Navy Blue Shirt   \n",
            "1  2012.0  Casual             Peter England Men Party Blue Jeans   \n",
            "2  2016.0  Casual                       Titan Women Silver Watch   \n",
            "3  2011.0  Casual  Manchester United Men Solid Black Track Pants   \n",
            "4  2012.0  Casual                          Puma Men Grey T-shirt   \n",
            "\n",
            "                                            Positive  \\\n",
            "0  Men , Apparel , Topwear , Shirts , Navy Blue ,...   \n",
            "1  Men , Apparel , Bottomwear , Jeans , Blue , Su...   \n",
            "2  Women , Accessories , Watches , Watches , Silv...   \n",
            "3  Men , Apparel , Bottomwear , Track Pants , Bla...   \n",
            "4  Men , Apparel , Topwear , Tshirts , Grey , Sum...   \n",
            "\n",
            "                                   NEGATIVE  \n",
            "0        Women , Trousers , Summer , Formal  \n",
            "1  Women , Sweaters , Spring , Smart Casual  \n",
            "2            Men , Lipstick , Spring , Home  \n",
            "3  Women , Jumpsuit , Spring , Smart Casual  \n",
            "4    Women , Trousers , Fall , Smart Casual  \n"
          ]
        }
      ]
    },
    {
      "cell_type": "code",
      "source": [
        "print(df.loc[0, 'Positive'])\n",
        "print(df.loc[0, 'NEGATIVE'])"
      ],
      "metadata": {
        "colab": {
          "base_uri": "https://localhost:8080/"
        },
        "id": "vQuklsxkIAEb",
        "outputId": "d2277629-4aa7-48dd-97b8-c45d4a9ab2c5"
      },
      "execution_count": 19,
      "outputs": [
        {
          "output_type": "stream",
          "name": "stdout",
          "text": [
            "Men , Apparel , Topwear , Shirts , Navy Blue , Fall , Casual , Turtle Check Men Navy Blue Shirt\n",
            "Women , Trousers , Summer , Formal\n"
          ]
        }
      ]
    },
    {
      "cell_type": "code",
      "source": [],
      "metadata": {
        "id": "3MHI8MinKV_Q"
      },
      "execution_count": null,
      "outputs": []
    },
    {
      "cell_type": "code",
      "source": [
        "df.to_csv(\"final_style.csv\")"
      ],
      "metadata": {
        "id": "I4pUhep8JcP2"
      },
      "execution_count": 21,
      "outputs": []
    },
    {
      "cell_type": "code",
      "source": [],
      "metadata": {
        "id": "aMAUB28mKeh6"
      },
      "execution_count": null,
      "outputs": []
    }
  ]
}